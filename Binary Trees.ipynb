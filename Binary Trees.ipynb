{
 "cells": [
  {
   "cell_type": "code",
   "execution_count": null,
   "metadata": {},
   "outputs": [],
   "source": [
    "class _Node:\n",
    "    __slots__ = '_element', '_left', '_right'\n",
    "\n",
    "    def __init__(self, element, left=None, right=None):\n",
    "        self._element = element\n",
    "        self._left = left\n",
    "        self._right = right\n",
    "\n",
    "class BinaryTree:\n",
    "    def __init__(self):\n",
    "        self._root = None\n",
    "\n",
    "    def maketree(self, e, left, right):\n",
    "        self._root = _Node(e,left._root,right._root)\n",
    "\n",
    "    def inorder(self,troot):\n",
    "        if troot:\n",
    "            self.inorder(troot._left)\n",
    "            print(troot._element,end=' ')\n",
    "            self.inorder(troot._right)\n",
    "\n",
    "    def preorder(self,troot):\n",
    "        if troot:\n",
    "            print(troot._element,end=' ')\n",
    "            self.preorder(troot._left)\n",
    "            self.preorder(troot._right)\n",
    "\n",
    "    def postorder(self,troot):\n",
    "        if troot:\n",
    "            self.postorder(troot._left)\n",
    "            self.postorder(troot._right)\n",
    "            print(troot._element, end=' ')\n",
    "\n",
    "\n",
    "x = BinaryTree()\n",
    "y = BinaryTree()\n",
    "z = BinaryTree()\n",
    "r = BinaryTree()\n",
    "s = BinaryTree()\n",
    "t = BinaryTree()\n",
    "a = BinaryTree()\n",
    "x.maketree(40,a,a)\n",
    "y.maketree(60,a,a)\n",
    "z.maketree(20,x,a)\n",
    "r.maketree(50,a,y)\n",
    "s.maketree(30,r,a)\n",
    "t.maketree(10,z,s)\n",
    "print('Inorder Traversal')\n",
    "t.inorder(t._root)\n",
    "print()\n",
    "print('Preorder Traversal')\n",
    "t.preorder(t._root)\n",
    "print()\n",
    "print('Postorder Traversal')\n",
    "t.postorder(t._root)"
   ]
  }
 ],
 "metadata": {
  "kernelspec": {
   "display_name": "Python 3.8.9 64-bit",
   "language": "python",
   "name": "python3"
  },
  "language_info": {
   "name": "python",
   "version": "3.8.9"
  },
  "orig_nbformat": 4,
  "vscode": {
   "interpreter": {
    "hash": "31f2aee4e71d21fbe5cf8b01ff0e069b9275f58929596ceb00d14d90e3e16cd6"
   }
  }
 },
 "nbformat": 4,
 "nbformat_minor": 2
}
